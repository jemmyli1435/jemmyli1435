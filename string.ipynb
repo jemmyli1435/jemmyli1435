{
 "cells": [
  {
   "cell_type": "code",
   "execution_count": 32,
   "id": "a4b1dbe1-ac65-4357-a7b8-97f48ae07813",
   "metadata": {},
   "outputs": [
    {
     "name": "stdout",
     "output_type": "stream",
     "text": [
      "Hello\" YAYAYA\n",
      "HELLO MR. WHITE\n",
      "hello mr. white\n",
      "False\n",
      "False\n",
      "True\n",
      "True\n",
      "H\n",
      "0\n",
      "Sello Mr. White\n",
      "這裡有 100 , 45 隻小豬\n",
      "這裡有隻小豬\n"
     ]
    }
   ],
   "source": [
    "# 如何使用字串\n",
    "print(\"Hello\\\" YAYAYA\") #ans: Hello\" YAYAYA\n",
    "\n",
    "# 函式\n",
    "phrase = \"Hello Mr. White\"\n",
    "print(phrase.upper()) #字母全部大寫\n",
    "print(phrase.lower()) #字母全部小寫\n",
    "print(phrase.isupper()) #字母全部大寫的話 回傳true\n",
    "print(phrase.islower()) #字母全部小寫的話 回傳true\n",
    "print(phrase.upper().isupper()) #字母全部大寫，回傳true\n",
    "print(phrase.lower().islower()) #字母全部小寫，回傳true\n",
    "\n",
    "print(phrase[0]) #數字從0開始計算\n",
    "print(phrase.index(\"H\")) #找內容的位置，如果有多個相同內容會回傳第一個位置\n",
    "print(phrase.replace(\"H\",\"S\")) # 找H 並用S取代掉,如果有多個相同內容會全部取代\n",
    "\n",
    "a=100\n",
    "b=45\n",
    "print(\"這裡有\",a,\",\",b,\"隻小豬\")\n",
    "print(\"這裡有\"+\"隻小豬\")"
   ]
  },
  {
   "cell_type": "code",
   "execution_count": null,
   "id": "2c90369f-7fcb-4404-9c30-e43276b31bb7",
   "metadata": {},
   "outputs": [],
   "source": []
  }
 ],
 "metadata": {
  "kernelspec": {
   "display_name": "Python 3 (ipykernel)",
   "language": "python",
   "name": "python3"
  },
  "language_info": {
   "codemirror_mode": {
    "name": "ipython",
    "version": 3
   },
   "file_extension": ".py",
   "mimetype": "text/x-python",
   "name": "python",
   "nbconvert_exporter": "python",
   "pygments_lexer": "ipython3",
   "version": "3.12.4"
  }
 },
 "nbformat": 4,
 "nbformat_minor": 5
}
