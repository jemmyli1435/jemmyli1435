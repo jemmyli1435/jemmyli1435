{
 "cells": [
  {
   "cell_type": "code",
   "execution_count": 3,
   "id": "6c994560-873d-43a2-b652-102a91882617",
   "metadata": {},
   "outputs": [
    {
     "name": "stdout",
     "output_type": "stream",
     "text": [
      "2\n",
      "2.6666666666666665\n"
     ]
    }
   ],
   "source": [
    "#如何使用數字、數字的用法\n",
    "print(8//3) #留整數\n",
    "print(8/3)"
   ]
  },
  {
   "cell_type": "code",
   "execution_count": null,
   "id": "5a449741-4fcc-4859-9870-15759c6696bb",
   "metadata": {},
   "outputs": [],
   "source": []
  }
 ],
 "metadata": {
  "kernelspec": {
   "display_name": "Python 3 (ipykernel)",
   "language": "python",
   "name": "python3"
  },
  "language_info": {
   "codemirror_mode": {
    "name": "ipython",
    "version": 3
   },
   "file_extension": ".py",
   "mimetype": "text/x-python",
   "name": "python",
   "nbconvert_exporter": "python",
   "pygments_lexer": "ipython3",
   "version": "3.12.4"
  }
 },
 "nbformat": 4,
 "nbformat_minor": 5
}
